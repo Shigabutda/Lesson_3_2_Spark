{
 "cells": [
  {
   "cell_type": "code",
   "execution_count": 165,
   "id": "cddbfb81",
   "metadata": {},
   "outputs": [],
   "source": [
    "import pyspark.sql.types as T\n",
    "import pyspark.sql.functions as F\n",
    "from pyspark.sql.functions import unix_timestamp\n",
    "from pyspark.sql.functions import current_timestamp\n",
    "from pyspark.sql.functions import from_unixtime\n",
    "from pyspark.sql.functions import to_timestamp,col\n",
    "from pyspark.sql.functions import when\n",
    "import datetime"
   ]
  },
  {
   "cell_type": "code",
   "execution_count": null,
   "id": "7be838ea",
   "metadata": {},
   "outputs": [],
   "source": []
  },
  {
   "cell_type": "code",
   "execution_count": 2,
   "id": "b9eb08bc",
   "metadata": {},
   "outputs": [
    {
     "name": "stdout",
     "output_type": "stream",
     "text": [
      "22/11/30 19:13:00 WARN SparkSession: Using an existing Spark session; only runtime SQL configurations will take effect.\n"
     ]
    }
   ],
   "source": [
    "spark = SparkSession.builder.master(\"local\").\\\n",
    "                            appName(\"Word Count\").\\\n",
    "                            config(\"spark.driver.bindAddress\",\"localhost\").\\\n",
    "                            config(\"spark.ui.port\", \"4040\").\\\n",
    "                            getOrCreate()"
   ]
  },
  {
   "cell_type": "code",
   "execution_count": 3,
   "id": "e134f56f",
   "metadata": {},
   "outputs": [],
   "source": [
    "schema = T.StructType([\n",
    "    T.StructField(\"id\", T.IntegerType(), True),\n",
    "    T.StructField(\"timestamp\", T.IntegerType(), True),\n",
    "    T.StructField(\"type\", T.StringType(), True),\n",
    "    T.StructField(\"page_id\", T.IntegerType(), True),\n",
    "    T.StructField(\"tag\", T.StringType(), True),\n",
    "    T.StructField(\"sign\", T.BooleanType(), True) \n",
    "])"
   ]
  },
  {
   "cell_type": "code",
   "execution_count": 182,
   "id": "6738f41b",
   "metadata": {},
   "outputs": [],
   "source": [
    "data = [(12345, 1667627426, \"click\", 101, 'Sport', True),\n",
    "       (12345, 1667629826, \"visit\", 204, 'Politic', True),\n",
    "       (12378, 1646741426, \"move\", 504, 'Medicine', False),\n",
    "       (13547, 1646741426, 'scroll', 103, 'Econimics', True),\n",
    "       (13547, 1698741426, 'scroll', 403, 'Sport', True),\n",
    "       (12888, 1691741426, \"click\", 101, 'Medicine', False),\n",
    "       (12146, 1697829826, \"move\", 414, 'Politic', False),\n",
    "       (13888, 1664741426, 'scroll', 503, 'Econimics', True),\n",
    "       (13888, 1691745926, \"click\", 101, 'Medicine', True),\n",
    "       (12888, 1691741316, \"move\", 601, 'Autonews', True),\n",
    "       (12887, 1691641316, \"click\", 601, 'Sport', True),\n",
    "       (13547, 1698742426, 'scroll', 504, 'Politic', True),\n",
    "       (12146, 1697829416, \"visit\", 104, 'Science', False),\n",
    "       (12114, 1697835416, \"move\", 204, 'Sport', True),\n",
    "       (12114, 1694435416, \"scroll\", 104, 'Sport', True)       \n",
    "        ]\n",
    "\n",
    "df = spark.createDataFrame(data=data, schema = schema)"
   ]
  },
  {
   "cell_type": "code",
   "execution_count": 183,
   "id": "07b561cc",
   "metadata": {},
   "outputs": [
    {
     "name": "stdout",
     "output_type": "stream",
     "text": [
      "+-----+----------+------+-------+---------+-----+\n",
      "|   id| timestamp|  type|page_id|      tag| sign|\n",
      "+-----+----------+------+-------+---------+-----+\n",
      "|12345|1667627426| click|    101|    Sport| true|\n",
      "|12345|1667629826| visit|    204|  Politic| true|\n",
      "|12378|1646741426|  move|    504| Medicine|false|\n",
      "|13547|1646741426|scroll|    103|Econimics| true|\n",
      "|13547|1698741426|scroll|    403|    Sport| true|\n",
      "|12888|1691741426| click|    101| Medicine|false|\n",
      "|12146|1697829826|  move|    414|  Politic|false|\n",
      "|13888|1664741426|scroll|    503|Econimics| true|\n",
      "|13888|1691745926| click|    101| Medicine| true|\n",
      "|12888|1691741316|  move|    601| Autonews| true|\n",
      "|12887|1691641316| click|    601|    Sport| true|\n",
      "|13547|1698742426|scroll|    504|  Politic| true|\n",
      "|12146|1697829416| visit|    104|  Science|false|\n",
      "|12114|1697835416|  move|    204|    Sport| true|\n",
      "|12114|1694435416|scroll|    104|    Sport| true|\n",
      "+-----+----------+------+-------+---------+-----+\n",
      "\n"
     ]
    }
   ],
   "source": [
    "df.show()"
   ]
  },
  {
   "cell_type": "code",
   "execution_count": 184,
   "id": "8f3e2252",
   "metadata": {},
   "outputs": [],
   "source": [
    "df_new = df.withColumn(\"timestamp_2\", from_unixtime(col(\"timestamp\")))"
   ]
  },
  {
   "cell_type": "code",
   "execution_count": 185,
   "id": "773a6783",
   "metadata": {},
   "outputs": [
    {
     "name": "stdout",
     "output_type": "stream",
     "text": [
      "+-----+----------+------+-------+---------+-----+-------------------+\n",
      "|   id| timestamp|  type|page_id|      tag| sign|        timestamp_2|\n",
      "+-----+----------+------+-------+---------+-----+-------------------+\n",
      "|12345|1667627426| click|    101|    Sport| true|2022-11-05 10:50:26|\n",
      "|12345|1667629826| visit|    204|  Politic| true|2022-11-05 11:30:26|\n",
      "|12378|1646741426|  move|    504| Medicine|false|2022-03-08 17:10:26|\n",
      "|13547|1646741426|scroll|    103|Econimics| true|2022-03-08 17:10:26|\n",
      "|13547|1698741426|scroll|    403|    Sport| true|2023-10-31 13:37:06|\n",
      "|12888|1691741426| click|    101| Medicine|false|2023-08-11 13:10:26|\n",
      "|12146|1697829826|  move|    414|  Politic|false|2023-10-21 00:23:46|\n",
      "|13888|1664741426|scroll|    503|Econimics| true|2022-10-03 01:10:26|\n",
      "|13888|1691745926| click|    101| Medicine| true|2023-08-11 14:25:26|\n",
      "|12888|1691741316|  move|    601| Autonews| true|2023-08-11 13:08:36|\n",
      "|12887|1691641316| click|    601|    Sport| true|2023-08-10 09:21:56|\n",
      "|13547|1698742426|scroll|    504|  Politic| true|2023-10-31 13:53:46|\n",
      "|12146|1697829416| visit|    104|  Science|false|2023-10-21 00:16:56|\n",
      "|12114|1697835416|  move|    204|    Sport| true|2023-10-21 01:56:56|\n",
      "|12114|1694435416|scroll|    104|    Sport| true|2023-09-11 17:30:16|\n",
      "+-----+----------+------+-------+---------+-----+-------------------+\n",
      "\n"
     ]
    }
   ],
   "source": [
    "df_new.show()"
   ]
  },
  {
   "cell_type": "markdown",
   "id": "105ce76f",
   "metadata": {},
   "source": [
    "Вывести топ-5 самых активных посетителей сайта"
   ]
  },
  {
   "cell_type": "code",
   "execution_count": 186,
   "id": "48343444",
   "metadata": {},
   "outputs": [
    {
     "name": "stdout",
     "output_type": "stream",
     "text": [
      "+-----+-----+\n",
      "|   id|count|\n",
      "+-----+-----+\n",
      "|13547|    3|\n",
      "|12345|    2|\n",
      "|12888|    2|\n",
      "|12146|    2|\n",
      "|13888|    2|\n",
      "+-----+-----+\n",
      "only showing top 5 rows\n",
      "\n"
     ]
    }
   ],
   "source": [
    "(df_new\n",
    "    .groupby(df_new.id)\n",
    "    .count()\n",
    "    .orderBy('count', ascending=False)\n",
    "    .show(5))"
   ]
  },
  {
   "cell_type": "markdown",
   "id": "54617206",
   "metadata": {},
   "source": [
    "Посчитать процент посетителей, у которых есть ЛК"
   ]
  },
  {
   "cell_type": "code",
   "execution_count": 187,
   "id": "d57825d0",
   "metadata": {},
   "outputs": [
    {
     "name": "stdout",
     "output_type": "stream",
     "text": [
      "Доля зарегистрированных пользователей: 73.33333333333333%\n"
     ]
    }
   ],
   "source": [
    "sign_true = (df_new\n",
    "                .filter(col('sign')== True)\n",
    "                .count())\n",
    "sign_total = df_new.count()\n",
    "print(f\"Доля зарегистрированных пользователей: {sign_true/sign_total * 100}%\")"
   ]
  },
  {
   "cell_type": "code",
   "execution_count": 188,
   "id": "1777c555",
   "metadata": {},
   "outputs": [
    {
     "data": {
      "text/plain": [
       "15"
      ]
     },
     "execution_count": 188,
     "metadata": {},
     "output_type": "execute_result"
    }
   ],
   "source": [
    "sign_total"
   ]
  },
  {
   "cell_type": "markdown",
   "id": "4fc6d3d0",
   "metadata": {},
   "source": [
    "Вывести топ-5 страниц сайта по показателю общего кол-ва кликов на данной странице"
   ]
  },
  {
   "cell_type": "code",
   "execution_count": 189,
   "id": "4697a525",
   "metadata": {},
   "outputs": [
    {
     "name": "stdout",
     "output_type": "stream",
     "text": [
      "+-------+-----+\n",
      "|page_id|count|\n",
      "+-------+-----+\n",
      "|    101|    3|\n",
      "|    601|    2|\n",
      "|    504|    2|\n",
      "|    104|    2|\n",
      "|    204|    2|\n",
      "+-------+-----+\n",
      "only showing top 5 rows\n",
      "\n"
     ]
    }
   ],
   "source": [
    "(df_new\n",
    "    .groupby(df_new.page_id)\n",
    "    .count()\n",
    "    .orderBy('count', ascending=False)\n",
    "    .show(5))"
   ]
  },
  {
   "cell_type": "markdown",
   "id": "d72eac71",
   "metadata": {},
   "source": [
    "Добавьте столбец к фрейму данных со значением временного диапазона в рамках суток с размером окна – 4 часа(0-4, 4-8, 8-12 и т.д.)"
   ]
  },
  {
   "cell_type": "code",
   "execution_count": 190,
   "id": "96118b4b",
   "metadata": {},
   "outputs": [
    {
     "name": "stdout",
     "output_type": "stream",
     "text": [
      "+-----+----------+------+-------+---------+-----+-------------------+----+\n",
      "|   id| timestamp|  type|page_id|      tag| sign|        timestamp_2|hour|\n",
      "+-----+----------+------+-------+---------+-----+-------------------+----+\n",
      "|12345|1667627426| click|    101|    Sport| true|2022-11-05 10:50:26|  10|\n",
      "|12345|1667629826| visit|    204|  Politic| true|2022-11-05 11:30:26|  11|\n",
      "|12378|1646741426|  move|    504| Medicine|false|2022-03-08 17:10:26|  17|\n",
      "|13547|1646741426|scroll|    103|Econimics| true|2022-03-08 17:10:26|  17|\n",
      "|13547|1698741426|scroll|    403|    Sport| true|2023-10-31 13:37:06|  13|\n",
      "|12888|1691741426| click|    101| Medicine|false|2023-08-11 13:10:26|  13|\n",
      "|12146|1697829826|  move|    414|  Politic|false|2023-10-21 00:23:46|   0|\n",
      "|13888|1664741426|scroll|    503|Econimics| true|2022-10-03 01:10:26|   1|\n",
      "|13888|1691745926| click|    101| Medicine| true|2023-08-11 14:25:26|  14|\n",
      "|12888|1691741316|  move|    601| Autonews| true|2023-08-11 13:08:36|  13|\n",
      "|12887|1691641316| click|    601|    Sport| true|2023-08-10 09:21:56|   9|\n",
      "|13547|1698742426|scroll|    504|  Politic| true|2023-10-31 13:53:46|  13|\n",
      "|12146|1697829416| visit|    104|  Science|false|2023-10-21 00:16:56|   0|\n",
      "|12114|1697835416|  move|    204|    Sport| true|2023-10-21 01:56:56|   1|\n",
      "|12114|1694435416|scroll|    104|    Sport| true|2023-09-11 17:30:16|  17|\n",
      "+-----+----------+------+-------+---------+-----+-------------------+----+\n",
      "\n"
     ]
    }
   ],
   "source": [
    "df_new = df_new.withColumn('hour', F.hour('timestamp_2'))\n",
    "df_new.show()"
   ]
  },
  {
   "cell_type": "code",
   "execution_count": 191,
   "id": "d9389613",
   "metadata": {},
   "outputs": [],
   "source": [
    "df_new = df_new.withColumn(\"time_interval\",\n",
    "                          when((col('hour') >= 0) & (col('hour') < 4), '0-4')\n",
    "                          .when((col('hour') >= 4) & (col('hour') < 8), '4-8')\n",
    "                          .when((col('hour') >= 8) & (col('hour') < 12), '8-12')\n",
    "                          .when((col('hour') >= 12) & (col('hour') < 16), '12-16')\n",
    "                          .when((col('hour') >= 16) & (col('hour') < 20), '16-20')\n",
    "                          .when((col('hour') >= 20) & (col('hour') < 24), '20-24'))   \n"
   ]
  },
  {
   "cell_type": "code",
   "execution_count": 192,
   "id": "07d19324",
   "metadata": {},
   "outputs": [
    {
     "name": "stdout",
     "output_type": "stream",
     "text": [
      "+-----+----------+------+-------+---------+-----+-------------------+----+-------------+\n",
      "|   id| timestamp|  type|page_id|      tag| sign|        timestamp_2|hour|time_interval|\n",
      "+-----+----------+------+-------+---------+-----+-------------------+----+-------------+\n",
      "|12345|1667627426| click|    101|    Sport| true|2022-11-05 10:50:26|  10|         8-12|\n",
      "|12345|1667629826| visit|    204|  Politic| true|2022-11-05 11:30:26|  11|         8-12|\n",
      "|12378|1646741426|  move|    504| Medicine|false|2022-03-08 17:10:26|  17|        16-20|\n",
      "|13547|1646741426|scroll|    103|Econimics| true|2022-03-08 17:10:26|  17|        16-20|\n",
      "|13547|1698741426|scroll|    403|    Sport| true|2023-10-31 13:37:06|  13|        12-16|\n",
      "|12888|1691741426| click|    101| Medicine|false|2023-08-11 13:10:26|  13|        12-16|\n",
      "|12146|1697829826|  move|    414|  Politic|false|2023-10-21 00:23:46|   0|          0-4|\n",
      "|13888|1664741426|scroll|    503|Econimics| true|2022-10-03 01:10:26|   1|          0-4|\n",
      "|13888|1691745926| click|    101| Medicine| true|2023-08-11 14:25:26|  14|        12-16|\n",
      "|12888|1691741316|  move|    601| Autonews| true|2023-08-11 13:08:36|  13|        12-16|\n",
      "|12887|1691641316| click|    601|    Sport| true|2023-08-10 09:21:56|   9|         8-12|\n",
      "|13547|1698742426|scroll|    504|  Politic| true|2023-10-31 13:53:46|  13|        12-16|\n",
      "|12146|1697829416| visit|    104|  Science|false|2023-10-21 00:16:56|   0|          0-4|\n",
      "|12114|1697835416|  move|    204|    Sport| true|2023-10-21 01:56:56|   1|          0-4|\n",
      "|12114|1694435416|scroll|    104|    Sport| true|2023-09-11 17:30:16|  17|        16-20|\n",
      "+-----+----------+------+-------+---------+-----+-------------------+----+-------------+\n",
      "\n"
     ]
    }
   ],
   "source": [
    "df_new.show()"
   ]
  },
  {
   "cell_type": "markdown",
   "id": "069bdd90",
   "metadata": {},
   "source": [
    "Выведите временной промежуток на основе предыдущего задания, в течение которого было больше всего активностей на сайте."
   ]
  },
  {
   "cell_type": "code",
   "execution_count": 193,
   "id": "507ac878",
   "metadata": {},
   "outputs": [
    {
     "name": "stdout",
     "output_type": "stream",
     "text": [
      "+-------------+-----+\n",
      "|time_interval|count|\n",
      "+-------------+-----+\n",
      "|        12-16|    5|\n",
      "+-------------+-----+\n",
      "only showing top 1 row\n",
      "\n"
     ]
    }
   ],
   "source": [
    "(df_new\n",
    "    .groupby(df_new.time_interval)\n",
    "    .count()\n",
    "    .orderBy('count', ascending=False)\n",
    "    .show(1))"
   ]
  },
  {
   "cell_type": "markdown",
   "id": "b8f47e6d",
   "metadata": {},
   "source": [
    "Создайте второй фрейм данных, который будет содержать информацию о ЛК посетителя сайта со следующим списком атрибутов"
   ]
  },
  {
   "cell_type": "code",
   "execution_count": 194,
   "id": "553346c5",
   "metadata": {},
   "outputs": [],
   "source": [
    "schema_account = T.StructType([\n",
    "    T.StructField(\"id\", T.IntegerType(), True),\n",
    "    T.StructField(\"User_id\", T.IntegerType(), True),\n",
    "    T.StructField(\"lastname\", T.StringType(), True),\n",
    "    T.StructField(\"firstname\", T.StringType(), True),\n",
    "    T.StructField(\"middlename\", T.StringType(), True),\n",
    "    T.StructField(\"dob\", T.DateType(), True),\n",
    "    T.StructField(\"date_reg\", T.DateType(), True)\n",
    "])"
   ]
  },
  {
   "cell_type": "code",
   "execution_count": 195,
   "id": "601faaa0",
   "metadata": {},
   "outputs": [],
   "source": [
    "data_account = [(55671, 12345, 'Иванов', 'Иван', 'Иванович', datetime.datetime.strptime('1990-11-01', \"%Y-%m-%d\"), datetime.datetime.strptime('2017-01-12', \"%Y-%m-%d\")), \n",
    "                (55987, 13547, 'Петров', 'Артем', 'Янович', datetime.datetime.strptime('1992-10-11', \"%Y-%m-%d\"), datetime.datetime.strptime('2018-06-12', \"%Y-%m-%d\")),\n",
    "                (56987, 13888, 'Клюева', 'Валерия', 'Петровна', datetime.datetime.strptime('1993-12-05', \"%Y-%m-%d\"), datetime.datetime.strptime('2019-02-22', \"%Y-%m-%d\")),\n",
    "                (56077, 12887, 'Иванова', 'Елена', 'Алексеевна', datetime.datetime.strptime('1968-10-25', \"%Y-%m-%d\"), datetime.datetime.strptime('2019-01-01', \"%Y-%m-%d\")),\n",
    "                (57004, 12114, 'Дуров', 'Олег', 'Викторович', datetime.datetime.strptime('1985-04-11', \"%Y-%m-%d\"), datetime.datetime.strptime('2020-04-26', \"%Y-%m-%d\"))\n",
    "               ]\n",
    "df_account = spark.createDataFrame(data=data_account, schema = schema_account)"
   ]
  },
  {
   "cell_type": "code",
   "execution_count": 196,
   "id": "58ab9027",
   "metadata": {
    "scrolled": true
   },
   "outputs": [
    {
     "name": "stdout",
     "output_type": "stream",
     "text": [
      "+-----+-------+--------+---------+----------+----------+----------+\n",
      "|   id|User_id|lastname|firstname|middlename|       dob|  date_reg|\n",
      "+-----+-------+--------+---------+----------+----------+----------+\n",
      "|55671|  12345|  Иванов|     Иван|  Иванович|1990-11-01|2017-01-12|\n",
      "|55987|  13547|  Петров|    Артем|    Янович|1992-10-11|2018-06-12|\n",
      "|56987|  13888|  Клюева|  Валерия|  Петровна|1993-12-05|2019-02-22|\n",
      "|56077|  12887| Иванова|    Елена|Алексеевна|1968-10-25|2019-01-01|\n",
      "|57004|  12114|   Дуров|     Олег|Викторович|1985-04-11|2020-04-26|\n",
      "+-----+-------+--------+---------+----------+----------+----------+\n",
      "\n"
     ]
    }
   ],
   "source": [
    "df_account.show()"
   ]
  },
  {
   "cell_type": "markdown",
   "id": "c4367a7e",
   "metadata": {},
   "source": [
    "Вывести фамилии посетителей, которые читали хотя бы одну новость про спорт."
   ]
  },
  {
   "cell_type": "code",
   "execution_count": 206,
   "id": "230c9656",
   "metadata": {},
   "outputs": [
    {
     "data": {
      "text/plain": [
       "[Row(lastname='Петров'),\n",
       " Row(lastname='Иванова'),\n",
       " Row(lastname='Дуров'),\n",
       " Row(lastname='Иванов')]"
      ]
     },
     "execution_count": 206,
     "metadata": {},
     "output_type": "execute_result"
    }
   ],
   "source": [
    "(df.join(df_account, df.id == df_account.User_id, 'inner')\n",
    "    .select(df_account.lastname)\n",
    "    .filter(df.tag == \"Sport\")\n",
    "    .distinct()\n",
    "    .collect())"
   ]
  },
  {
   "cell_type": "code",
   "execution_count": null,
   "id": "a424533a",
   "metadata": {},
   "outputs": [],
   "source": []
  }
 ],
 "metadata": {
  "kernelspec": {
   "display_name": "Python 3 (ipykernel)",
   "language": "python",
   "name": "python3"
  },
  "language_info": {
   "codemirror_mode": {
    "name": "ipython",
    "version": 3
   },
   "file_extension": ".py",
   "mimetype": "text/x-python",
   "name": "python",
   "nbconvert_exporter": "python",
   "pygments_lexer": "ipython3",
   "version": "3.9.12"
  }
 },
 "nbformat": 4,
 "nbformat_minor": 5
}
